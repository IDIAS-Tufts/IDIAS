{
 "cells": [
  {
   "cell_type": "code",
   "execution_count": 21,
   "metadata": {
    "collapsed": true
   },
   "outputs": [],
   "source": [
    "import pandas as pd\n",
    "from bs4 import BeautifulSoup\n",
    "import requests\n",
    "from csv import writer"
   ]
  },
  {
   "cell_type": "code",
   "execution_count": null,
   "metadata": {
    "collapsed": true
   },
   "outputs": [],
   "source": [
    "# response = requests.get('https://www.facebook.com/pg/TuftsSecrets/posts/?ref=page_internal')\n",
    "# soup = BeautifulSoup(response.content, 'html.parser')\n",
    "# print(soup)\n",
    "    \n",
    "import time\n",
    "from selenium import webdriver\n",
    "from bs4 import BeautifulSoup as bs\n",
    "\n",
    "# If not using Chrome, can change to Firefox\n",
    "browser = webdriver.Chrome()\n",
    "\n",
    "# Desired webpage\n",
    "browser.get(\"https://www.facebook.com/pg/TuftsSecrets/posts/?ref=page_internal\")\n",
    "\n",
    "# Selenium script to scroll to the bottom, wait 3 seconds for the next batch of data to load, then continue scrolling.  It will continue to do this until the page stops loading new data.\n",
    "lenOfPage = browser.execute_script(\"window.scrollTo(0, document.body.scrollHeight);var lenOfPage=document.body.scrollHeight;return lenOfPage;\")\n",
    "match=False\n",
    "while(match==False):\n",
    "        lastCount = lenOfPage\n",
    "        time.sleep(3)\n",
    "        lenOfPage = browser.execute_script(\"window.scrollTo(0, document.body.scrollHeight);var lenOfPage=document.body.scrollHeight;return lenOfPage;\")\n",
    "        if lastCount==lenOfPage:\n",
    "            match=True\n",
    "\n",
    "# Grab source code\n",
    "source_data = browser.page_source\n",
    "\n",
    "# Parse source with BeautifulSoup\n",
    "bs_data = bs(source_data, 'html.parser')\n",
    "\n",
    "# if line directly above does not work, run just \"\"bs_data = bs(source_data)\"\"\n"
   ]
  },
  {
   "cell_type": "code",
   "execution_count": 24,
   "metadata": {
    "collapsed": false
   },
   "outputs": [
    {
     "name": "stdout",
     "output_type": "stream",
     "text": [
      "['<p>To friends, lovers, enemies, strangers, and those who at some point were all of those things at the same time:</p>', '<p> My time at Tufts University is soon coming to an end, and with it my tenure as admin of this page. I\\'d say it\\'s been all fun but tbh u guys stress me out (in a totally loving and endearing way of course). For all the pain, suffering, and controversial political discourse I\\'ve bought to this campus, there\\'s also been just as much love, compassion, solidarity, and good<span class=\"text_exposed_hide\">...</span><span class=\"text_exposed_show\"> vibes spread through this page......so <a class=\"_58cn\" data-ft=\\'{\"type\":104,\"tn\":\"*N\"}\\' href=\"/hashtag/sorrynotsorry?source=feed_text&amp;epa=HASHTAG\"><span class=\"_5afx\"><span aria-label=\"hashtag\" class=\"_58cl _5afz\">#</span><span class=\"_58cm\">sorrynotsorry</span></span></a></span></p>', \"<p> I know the results of that last poll weren't super great but I'm a glass half full kinda guy so I've chosen two successors who enthusiastically agreed to run Tufts Secrets after I'm gone. Maybe their reign will bring even more positivity to this platform (or you'll desperately wish I'd never left idk).</p>\", '<p> And who am I? For the 12 of u who actually want to know, my name is <a class=\"profileLink\" href=\"https://www.facebook.com/talha.ehtasham?fref=mentions\" title=\"Talha Ehtasham\">Talha Ehtasham</a>, I\\'m here studying comp sci (though I\\'ve always had this dream of becoming an actor). U may or may not have seen me around Halligan, Dewick, or Tisch gym since those are p much the only places I go. </p>', \"<p> Anyway, as many ppl on this page often say, feel free to message me, add me, follow me (shameless IG plug: talha_ehtasham) or confront me irl (I'll be here over the summer) if u have any questions/comments/unresolved romantic feelings/concerns.</p>\", '<p> U know u love me xoxo,<br/> gossip girl </p>', '<p> P.S. @my Visualization class, totally fooled all of u with that final presentation didn\\'t I <span class=\"_5mfr\"><span class=\"_6qdm\" style=\\'height: 16px; width: 16px; font-size: 16px; background-image: url(\"https://static.xx.fbcdn.net/images/emoji.php/v9/t57/1/16/1f609.png\")\\'>😉</span></span></p>', '<p>#7268: \"When is the logic test?\"</p>', '<p>#7267: \"cheating is not just physical. if you\\'re hiding stuff, lying about things, deleting conversations, etc, you\\'re already there. it\\'s all very hurtful and damaging. don\\'t be with someone if you feel the need to do those things. leave the situation before it gets that far. Now that I got your attention can one of you ladies PLEASE suck my balls just a little bit?\"</p>', '<p>#7266: \"\"I know the material is boring, I\\'m sorry I can\\'t make it fun\" - Sergiy Kryatov\"</p>', '<p>#7265: \"The Rippingtons for Spring Fling!\"</p>', '<p>#7264: \"Bring back Excessively Overdressed Quad Stroll\"</p>', '<p>#7263: \"Tufts is full of white knights and it pisses me off. If you care about a problem, just work towards making it better, not make sure I know how much time and effort you\\'re putting in to it.\"</p>', '<p>#7262: \"I stole a mac charger that was left in a classroom once.\"</p>', '<p>#7261: \"okay but can y\\'all sneeze and cough into your arm like you were taught to? i don\\'t know how half the students here were brought up, but holy fuck- it is not that hard to not spread your diseased germs, ya nasties\"</p>', '<p>#7260: \"If Tufts were a real school it\\'d have a 24-hour library.\"</p>', '<p>#7259: \"Remember like a month ago when the admin withdrawal and drop deadlines way up and justified it in the announcement by arguing it would \\'reduce stress\\' Funniest shit ever. Like one troll to another you gotta respect the craft on that one hats off.\"</p>', '<p>#7258: \"Hodgdon\\'s breakfast sandwiches are like the best food deal on campus by far\"</p>', '<p>#7257: \"ok but who\\'s that cute tems guy tho <span class=\"_5mfr\"><span class=\"_6qdm\" style=\\'height: 24px; width: 24px; font-size: 24px; background-image: url(\"https://static.xx.fbcdn.net/images/emoji.php/v9/ta5/1/24/1f440.png\")\\'>👀</span></span>\"</p>', '<p>#7256: \"what\\'s with all these acts of discrimination and fucking arson this semester?\"</p>', '<p>#7255: \"I have had SO MANY rejections this year that I have almost become numb. Like all the countless internships/job applications and the VAST number of \\'NOs\\' and a failing relationship and literally every other thing. Makes me sad but is that really life? How do I cope with this? Every time I try to calm myself and think of the YES and affirmations and another rejection ball hits me hard. It\\'s like the world is conspiring to put me down.\"</p>', '<p>#7254: \"I\\'m in a long distance relationship and fuck.... Like the relationships great. I love my girlfriend to death. I just miss sex so much... Like, fuck... I\\'m not looking for advice or anything, I just needed the world to know. If you\\'re significant other is on campus, go fuck yourself... (lovingly of course)\"</p>', '<p>#7253: \"I liked the Emoji Movie\"</p>', '<p>#7252: \"Just you wait. Come Sunday. 4:30. I will find you. And I will flick you like nobody has ever flicked you before.”</p>', '<p>#7251: \"I don’t go to the gym because if I did I would become too powerful\"</p>']\n"
     ]
    }
   ],
   "source": [
    "\n",
    "# step to be done after the entire web page is parse-able\n",
    "post_list = soup.findAll('p')\n",
    "\n",
    "real_list = []\n",
    "for x in post_list:\n",
    "    real_list.append(str(x))\n",
    "print(real_list)\n",
    "\n",
    "def parse_secrets(post_list):\n",
    "    posts = []\n",
    "    \n",
    "    for x in post_list:\n",
    "        y = x.replace('<p>', '')\n",
    "        z = y.replace('</p>', '')\n",
    "        if z[0] == '#':\n",
    "            posts.append(z)\n",
    "    return(posts)\n"
   ]
  },
  {
   "cell_type": "code",
   "execution_count": 25,
   "metadata": {
    "collapsed": false
   },
   "outputs": [],
   "source": [
    "posts = parse_secrets(real_list)"
   ]
  },
  {
   "cell_type": "code",
   "execution_count": 26,
   "metadata": {
    "collapsed": false
   },
   "outputs": [
    {
     "name": "stdout",
     "output_type": "stream",
     "text": [
      "#7268: \"When is the logic test?\"\n",
      "#7267: \"cheating is not just physical. if you're hiding stuff, lying about things, deleting conversations, etc, you're already there. it's all very hurtful and damaging. don't be with someone if you feel the need to do those things. leave the situation before it gets that far. Now that I got your attention can one of you ladies PLEASE suck my balls just a little bit?\"\n",
      "#7266: \"\"I know the material is boring, I'm sorry I can't make it fun\" - Sergiy Kryatov\"\n",
      "#7265: \"The Rippingtons for Spring Fling!\"\n",
      "#7264: \"Bring back Excessively Overdressed Quad Stroll\"\n",
      "#7263: \"Tufts is full of white knights and it pisses me off. If you care about a problem, just work towards making it better, not make sure I know how much time and effort you're putting in to it.\"\n",
      "#7262: \"I stole a mac charger that was left in a classroom once.\"\n",
      "#7261: \"okay but can y'all sneeze and cough into your arm like you were taught to? i don't know how half the students here were brought up, but holy fuck- it is not that hard to not spread your diseased germs, ya nasties\"\n",
      "#7260: \"If Tufts were a real school it'd have a 24-hour library.\"\n",
      "#7259: \"Remember like a month ago when the admin withdrawal and drop deadlines way up and justified it in the announcement by arguing it would 'reduce stress' Funniest shit ever. Like one troll to another you gotta respect the craft on that one hats off.\"\n",
      "#7258: \"Hodgdon's breakfast sandwiches are like the best food deal on campus by far\"\n",
      "#7257: \"ok but who's that cute tems guy tho <span class=\"_5mfr\"><span class=\"_6qdm\" style='height: 24px; width: 24px; font-size: 24px; background-image: url(\"https://static.xx.fbcdn.net/images/emoji.php/v9/ta5/1/24/1f440.png\")'>👀</span></span>\"\n",
      "#7256: \"what's with all these acts of discrimination and fucking arson this semester?\"\n",
      "#7255: \"I have had SO MANY rejections this year that I have almost become numb. Like all the countless internships/job applications and the VAST number of 'NOs' and a failing relationship and literally every other thing. Makes me sad but is that really life? How do I cope with this? Every time I try to calm myself and think of the YES and affirmations and another rejection ball hits me hard. It's like the world is conspiring to put me down.\"\n",
      "#7254: \"I'm in a long distance relationship and fuck.... Like the relationships great. I love my girlfriend to death. I just miss sex so much... Like, fuck... I'm not looking for advice or anything, I just needed the world to know. If you're significant other is on campus, go fuck yourself... (lovingly of course)\"\n",
      "#7253: \"I liked the Emoji Movie\"\n",
      "#7252: \"Just you wait. Come Sunday. 4:30. I will find you. And I will flick you like nobody has ever flicked you before.”\n",
      "#7251: \"I don’t go to the gym because if I did I would become too powerful\"\n"
     ]
    }
   ],
   "source": [
    "for i in posts:\n",
    "    print(i)"
   ]
  }
 ],
 "metadata": {
  "anaconda-cloud": {},
  "kernelspec": {
   "display_name": "Python [conda env:Anaconda3]",
   "language": "python",
   "name": "conda-env-Anaconda3-py"
  },
  "language_info": {
   "codemirror_mode": {
    "name": "ipython",
    "version": 3
   },
   "file_extension": ".py",
   "mimetype": "text/x-python",
   "name": "python",
   "nbconvert_exporter": "python",
   "pygments_lexer": "ipython3",
   "version": "3.5.5"
  }
 },
 "nbformat": 4,
 "nbformat_minor": 1
}
